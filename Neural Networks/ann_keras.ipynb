{
  "nbformat": 4,
  "nbformat_minor": 0,
  "metadata": {
    "colab": {
      "name": "ann_keras.ipynb",
      "provenance": [],
      "collapsed_sections": [],
      "authorship_tag": "ABX9TyOWYMOPXUU9Pcmm8TltohV3",
      "include_colab_link": true
    },
    "kernelspec": {
      "name": "python3",
      "display_name": "Python 3"
    }
  },
  "cells": [
    {
      "cell_type": "markdown",
      "metadata": {
        "id": "view-in-github",
        "colab_type": "text"
      },
      "source": [
        "<a href=\"https://colab.research.google.com/github/kunalburgul/ML-Colab-Book/blob/master/Neural%20Networks/ann_keras.ipynb\" target=\"_parent\"><img src=\"https://colab.research.google.com/assets/colab-badge.svg\" alt=\"Open In Colab\"/></a>"
      ]
    },
    {
      "cell_type": "code",
      "metadata": {
        "id": "gxAglga3sRYo",
        "colab_type": "code",
        "outputId": "abcb9f7a-e03d-4ae6-929b-7c4249fd982a",
        "colab": {
          "base_uri": "https://localhost:8080/",
          "height": 87
        }
      },
      "source": [
        "!gdown --id 1JPYV2Gtt7Pj5tOv9GGav9qeY-PEqtDYI --output CM.csv"
      ],
      "execution_count": 1,
      "outputs": [
        {
          "output_type": "stream",
          "text": [
            "Downloading...\n",
            "From: https://drive.google.com/uc?id=1JPYV2Gtt7Pj5tOv9GGav9qeY-PEqtDYI\n",
            "To: /content/CM.csv\n",
            "\r  0% 0.00/675k [00:00<?, ?B/s]\r100% 675k/675k [00:00<00:00, 98.6MB/s]\n"
          ],
          "name": "stdout"
        }
      ]
    },
    {
      "cell_type": "code",
      "metadata": {
        "id": "eScQe1has_04",
        "colab_type": "code",
        "colab": {
          "base_uri": "https://localhost:8080/",
          "height": 34
        },
        "outputId": "7de73962-3826-4fa5-ac28-6e82fa69bfd2"
      },
      "source": [
        "# Importing the libraries \n",
        "import numpy as np \n",
        "import pandas as pd \n",
        "import matplotlib.pyplot as plt \n",
        "# Importing the keras libraries and packages\n",
        "import keras\n",
        "from keras.models import Sequential\n",
        "from keras.layers import Dense\n",
        "from keras.layers import Dropout"
      ],
      "execution_count": 2,
      "outputs": [
        {
          "output_type": "stream",
          "text": [
            "Using TensorFlow backend.\n"
          ],
          "name": "stderr"
        }
      ]
    },
    {
      "cell_type": "code",
      "metadata": {
        "id": "g2pjuc2NtEUH",
        "colab_type": "code",
        "colab": {}
      },
      "source": [
        "# Importing the dataset\n",
        "dataset = pd.read_csv('CM.csv')\n",
        "X = dataset.iloc[:, 3:13].values\n",
        "y = dataset.iloc[: , 13].values"
      ],
      "execution_count": 0,
      "outputs": []
    },
    {
      "cell_type": "code",
      "metadata": {
        "id": "m3FMighgtFsA",
        "colab_type": "code",
        "colab": {}
      },
      "source": [
        "# Taking care of Categoricial data\n",
        "from sklearn.preprocessing import LabelEncoder, OneHotEncoder\n",
        "from sklearn.compose import ColumnTransformer\n",
        "labelencoder_X_1 = LabelEncoder()\n",
        "X[:,1] = labelencoder_X_1.fit_transform(X[:,1])\n",
        "labelencoder_X_2 = LabelEncoder()\n",
        "X[:,2] = labelencoder_X_2.fit_transform(X[:,2])\n",
        "ct = ColumnTransformer([(\"Country\", OneHotEncoder(), [1])], remainder = 'passthrough')\n",
        "X = ct.fit_transform(X)\n",
        "X = X[:, 1:]"
      ],
      "execution_count": 0,
      "outputs": []
    },
    {
      "cell_type": "code",
      "metadata": {
        "id": "drMdw-JQtSwY",
        "colab_type": "code",
        "colab": {}
      },
      "source": [
        "# Splitting the dataset into the training set and the test set\n",
        "from sklearn.model_selection import train_test_split\n",
        "X_train, X_test, y_train, y_test = train_test_split(X, y, test_size = 0.2, random_state = 0)"
      ],
      "execution_count": 0,
      "outputs": []
    },
    {
      "cell_type": "code",
      "metadata": {
        "id": "V_m377LA1Gm8",
        "colab_type": "code",
        "colab": {}
      },
      "source": [
        "# Feature Scaling \n",
        "from sklearn.preprocessing import StandardScaler\n",
        "sc = StandardScaler()\n",
        "X_train = sc.fit_transform(X_train)\n",
        "X_test = sc.transform(X_test)"
      ],
      "execution_count": 0,
      "outputs": []
    },
    {
      "cell_type": "code",
      "metadata": {
        "id": "q_6cJ5131IK9",
        "colab_type": "code",
        "colab": {}
      },
      "source": [
        "# Initialising the ANN\n",
        "classifier = Sequential()"
      ],
      "execution_count": 0,
      "outputs": []
    },
    {
      "cell_type": "code",
      "metadata": {
        "id": "R183VwO41KIM",
        "colab_type": "code",
        "colab": {}
      },
      "source": [
        "# Adding the input layer and the first hidden layer\n",
        "classifier.add(Dense(units = 6, kernel_initializer = 'uniform', activation = 'relu', input_shape = (11,)))\n",
        "classifier.add(Dropout(0.1)) # should be below 0.6"
      ],
      "execution_count": 0,
      "outputs": []
    },
    {
      "cell_type": "code",
      "metadata": {
        "id": "ZsHg0xMn1LjR",
        "colab_type": "code",
        "colab": {}
      },
      "source": [
        "# Adding the second hidden layer\n",
        "classifier.add(Dense(units = 6, kernel_initializer = 'uniform', activation = 'relu'))\n",
        "classifier.add(Dropout(0.1)) # should be below 0.6"
      ],
      "execution_count": 0,
      "outputs": []
    },
    {
      "cell_type": "code",
      "metadata": {
        "id": "Xkb1jvF91NSK",
        "colab_type": "code",
        "colab": {}
      },
      "source": [
        "# Adding the output layer\n",
        "classifier.add(Dense(units = 1, kernel_initializer = 'uniform', activation = 'sigmoid'))"
      ],
      "execution_count": 0,
      "outputs": []
    },
    {
      "cell_type": "code",
      "metadata": {
        "id": "wKcxgeWj1PFB",
        "colab_type": "code",
        "colab": {}
      },
      "source": [
        "# Compiling the ANN\n",
        "classifier.compile(optimizer = 'adam', loss = 'binary_crossentropy', metrics = ['accuracy'])"
      ],
      "execution_count": 0,
      "outputs": []
    },
    {
      "cell_type": "code",
      "metadata": {
        "id": "vjSbhG8a1QFr",
        "colab_type": "code",
        "colab": {
          "base_uri": "https://localhost:8080/",
          "height": 1000
        },
        "outputId": "e7b55f96-2f66-4399-cc30-abcab4ce9c9a"
      },
      "source": [
        "# Fitting the ANN to the training set\n",
        "classifier.fit(x = X_train, y = y_train,batch_size = 10, epochs = 100)"
      ],
      "execution_count": 13,
      "outputs": [
        {
          "output_type": "stream",
          "text": [
            "Epoch 1/100\n",
            "8000/8000 [==============================] - 1s 154us/step - loss: 0.4946 - accuracy: 0.7956\n",
            "Epoch 2/100\n",
            "8000/8000 [==============================] - 1s 112us/step - loss: 0.4388 - accuracy: 0.7960\n",
            "Epoch 3/100\n",
            "8000/8000 [==============================] - 1s 110us/step - loss: 0.4378 - accuracy: 0.7960\n",
            "Epoch 4/100\n",
            "8000/8000 [==============================] - 1s 123us/step - loss: 0.4326 - accuracy: 0.7960\n",
            "Epoch 5/100\n",
            "8000/8000 [==============================] - 1s 109us/step - loss: 0.4328 - accuracy: 0.7960\n",
            "Epoch 6/100\n",
            "8000/8000 [==============================] - 1s 109us/step - loss: 0.4292 - accuracy: 0.7960\n",
            "Epoch 7/100\n",
            "8000/8000 [==============================] - 1s 110us/step - loss: 0.4322 - accuracy: 0.7960\n",
            "Epoch 8/100\n",
            "8000/8000 [==============================] - 1s 111us/step - loss: 0.4306 - accuracy: 0.7960\n",
            "Epoch 9/100\n",
            "8000/8000 [==============================] - 1s 129us/step - loss: 0.4297 - accuracy: 0.8029\n",
            "Epoch 10/100\n",
            "8000/8000 [==============================] - 1s 128us/step - loss: 0.4269 - accuracy: 0.8207\n",
            "Epoch 11/100\n",
            "8000/8000 [==============================] - 1s 111us/step - loss: 0.4290 - accuracy: 0.8259\n",
            "Epoch 12/100\n",
            "8000/8000 [==============================] - 1s 110us/step - loss: 0.4268 - accuracy: 0.8259\n",
            "Epoch 13/100\n",
            "8000/8000 [==============================] - 1s 114us/step - loss: 0.4280 - accuracy: 0.8299\n",
            "Epoch 14/100\n",
            "8000/8000 [==============================] - 1s 110us/step - loss: 0.4278 - accuracy: 0.8281\n",
            "Epoch 15/100\n",
            "8000/8000 [==============================] - 1s 110us/step - loss: 0.4266 - accuracy: 0.8285\n",
            "Epoch 16/100\n",
            "8000/8000 [==============================] - 1s 115us/step - loss: 0.4264 - accuracy: 0.8273\n",
            "Epoch 17/100\n",
            "8000/8000 [==============================] - 1s 127us/step - loss: 0.4272 - accuracy: 0.8269\n",
            "Epoch 18/100\n",
            "8000/8000 [==============================] - 1s 123us/step - loss: 0.4259 - accuracy: 0.8261\n",
            "Epoch 19/100\n",
            "8000/8000 [==============================] - 1s 118us/step - loss: 0.4253 - accuracy: 0.8299\n",
            "Epoch 20/100\n",
            "8000/8000 [==============================] - 1s 117us/step - loss: 0.4259 - accuracy: 0.8284\n",
            "Epoch 21/100\n",
            "8000/8000 [==============================] - 1s 114us/step - loss: 0.4246 - accuracy: 0.8282\n",
            "Epoch 22/100\n",
            "8000/8000 [==============================] - 1s 116us/step - loss: 0.4264 - accuracy: 0.8289\n",
            "Epoch 23/100\n",
            "8000/8000 [==============================] - 1s 112us/step - loss: 0.4287 - accuracy: 0.8292\n",
            "Epoch 24/100\n",
            "8000/8000 [==============================] - 1s 113us/step - loss: 0.4257 - accuracy: 0.8321\n",
            "Epoch 25/100\n",
            "8000/8000 [==============================] - 1s 114us/step - loss: 0.4257 - accuracy: 0.8291\n",
            "Epoch 26/100\n",
            "8000/8000 [==============================] - 1s 115us/step - loss: 0.4269 - accuracy: 0.8280\n",
            "Epoch 27/100\n",
            "8000/8000 [==============================] - 1s 119us/step - loss: 0.4275 - accuracy: 0.8300\n",
            "Epoch 28/100\n",
            "8000/8000 [==============================] - 1s 123us/step - loss: 0.4229 - accuracy: 0.8319\n",
            "Epoch 29/100\n",
            "8000/8000 [==============================] - 1s 118us/step - loss: 0.4229 - accuracy: 0.8311\n",
            "Epoch 30/100\n",
            "8000/8000 [==============================] - 1s 111us/step - loss: 0.4245 - accuracy: 0.8313\n",
            "Epoch 31/100\n",
            "8000/8000 [==============================] - 1s 112us/step - loss: 0.4272 - accuracy: 0.8306\n",
            "Epoch 32/100\n",
            "8000/8000 [==============================] - 1s 111us/step - loss: 0.4248 - accuracy: 0.8313\n",
            "Epoch 33/100\n",
            "8000/8000 [==============================] - 1s 114us/step - loss: 0.4246 - accuracy: 0.8305\n",
            "Epoch 34/100\n",
            "8000/8000 [==============================] - 1s 131us/step - loss: 0.4261 - accuracy: 0.8275\n",
            "Epoch 35/100\n",
            "8000/8000 [==============================] - 1s 111us/step - loss: 0.4268 - accuracy: 0.8295\n",
            "Epoch 36/100\n",
            "8000/8000 [==============================] - 1s 124us/step - loss: 0.4252 - accuracy: 0.8282\n",
            "Epoch 37/100\n",
            "8000/8000 [==============================] - 1s 112us/step - loss: 0.4258 - accuracy: 0.8301\n",
            "Epoch 38/100\n",
            "8000/8000 [==============================] - 1s 115us/step - loss: 0.4242 - accuracy: 0.8316\n",
            "Epoch 39/100\n",
            "8000/8000 [==============================] - 1s 125us/step - loss: 0.4227 - accuracy: 0.8289\n",
            "Epoch 40/100\n",
            "8000/8000 [==============================] - 1s 131us/step - loss: 0.4236 - accuracy: 0.8292\n",
            "Epoch 41/100\n",
            "8000/8000 [==============================] - 1s 112us/step - loss: 0.4267 - accuracy: 0.8304\n",
            "Epoch 42/100\n",
            "8000/8000 [==============================] - 1s 132us/step - loss: 0.4209 - accuracy: 0.8305\n",
            "Epoch 43/100\n",
            "8000/8000 [==============================] - 1s 143us/step - loss: 0.4273 - accuracy: 0.8310\n",
            "Epoch 44/100\n",
            "8000/8000 [==============================] - 1s 143us/step - loss: 0.4221 - accuracy: 0.8313\n",
            "Epoch 45/100\n",
            "8000/8000 [==============================] - 1s 149us/step - loss: 0.4232 - accuracy: 0.8331\n",
            "Epoch 46/100\n",
            "8000/8000 [==============================] - 1s 139us/step - loss: 0.4239 - accuracy: 0.8301\n",
            "Epoch 47/100\n",
            "8000/8000 [==============================] - 1s 126us/step - loss: 0.4211 - accuracy: 0.8320\n",
            "Epoch 48/100\n",
            "8000/8000 [==============================] - 1s 130us/step - loss: 0.4209 - accuracy: 0.8324\n",
            "Epoch 49/100\n",
            "8000/8000 [==============================] - 1s 132us/step - loss: 0.4212 - accuracy: 0.8310\n",
            "Epoch 50/100\n",
            "8000/8000 [==============================] - 1s 133us/step - loss: 0.4220 - accuracy: 0.8339\n",
            "Epoch 51/100\n",
            "8000/8000 [==============================] - 1s 129us/step - loss: 0.4222 - accuracy: 0.8319\n",
            "Epoch 52/100\n",
            "8000/8000 [==============================] - 1s 121us/step - loss: 0.4236 - accuracy: 0.8289\n",
            "Epoch 53/100\n",
            "8000/8000 [==============================] - 1s 127us/step - loss: 0.4241 - accuracy: 0.8296\n",
            "Epoch 54/100\n",
            "8000/8000 [==============================] - 1s 117us/step - loss: 0.4241 - accuracy: 0.8300\n",
            "Epoch 55/100\n",
            "8000/8000 [==============================] - 1s 116us/step - loss: 0.4240 - accuracy: 0.8292\n",
            "Epoch 56/100\n",
            "8000/8000 [==============================] - 1s 116us/step - loss: 0.4212 - accuracy: 0.8319\n",
            "Epoch 57/100\n",
            "8000/8000 [==============================] - 1s 113us/step - loss: 0.4236 - accuracy: 0.8319\n",
            "Epoch 58/100\n",
            "8000/8000 [==============================] - 1s 116us/step - loss: 0.4180 - accuracy: 0.8317\n",
            "Epoch 59/100\n",
            "8000/8000 [==============================] - 1s 128us/step - loss: 0.4234 - accuracy: 0.8322\n",
            "Epoch 60/100\n",
            "8000/8000 [==============================] - 1s 112us/step - loss: 0.4259 - accuracy: 0.8311\n",
            "Epoch 61/100\n",
            "8000/8000 [==============================] - 1s 114us/step - loss: 0.4247 - accuracy: 0.8267\n",
            "Epoch 62/100\n",
            "8000/8000 [==============================] - 1s 114us/step - loss: 0.4232 - accuracy: 0.8291\n",
            "Epoch 63/100\n",
            "8000/8000 [==============================] - 1s 130us/step - loss: 0.4268 - accuracy: 0.8309\n",
            "Epoch 64/100\n",
            "8000/8000 [==============================] - 1s 130us/step - loss: 0.4253 - accuracy: 0.8313\n",
            "Epoch 65/100\n",
            "8000/8000 [==============================] - 1s 113us/step - loss: 0.4244 - accuracy: 0.8296\n",
            "Epoch 66/100\n",
            "8000/8000 [==============================] - 1s 113us/step - loss: 0.4245 - accuracy: 0.8315\n",
            "Epoch 67/100\n",
            "8000/8000 [==============================] - 1s 114us/step - loss: 0.4234 - accuracy: 0.8309\n",
            "Epoch 68/100\n",
            "8000/8000 [==============================] - 1s 112us/step - loss: 0.4238 - accuracy: 0.8335\n",
            "Epoch 69/100\n",
            "8000/8000 [==============================] - 1s 127us/step - loss: 0.4226 - accuracy: 0.8303\n",
            "Epoch 70/100\n",
            "8000/8000 [==============================] - 1s 115us/step - loss: 0.4237 - accuracy: 0.8298\n",
            "Epoch 71/100\n",
            "8000/8000 [==============================] - 1s 118us/step - loss: 0.4222 - accuracy: 0.8310\n",
            "Epoch 72/100\n",
            "8000/8000 [==============================] - 1s 123us/step - loss: 0.4219 - accuracy: 0.8317\n",
            "Epoch 73/100\n",
            "8000/8000 [==============================] - 1s 129us/step - loss: 0.4252 - accuracy: 0.8309\n",
            "Epoch 74/100\n",
            "8000/8000 [==============================] - 1s 118us/step - loss: 0.4260 - accuracy: 0.8317\n",
            "Epoch 75/100\n",
            "8000/8000 [==============================] - 1s 118us/step - loss: 0.4191 - accuracy: 0.8305\n",
            "Epoch 76/100\n",
            "8000/8000 [==============================] - 1s 119us/step - loss: 0.4254 - accuracy: 0.8276\n",
            "Epoch 77/100\n",
            "8000/8000 [==============================] - 1s 125us/step - loss: 0.4227 - accuracy: 0.8309\n",
            "Epoch 78/100\n",
            "8000/8000 [==============================] - 1s 112us/step - loss: 0.4228 - accuracy: 0.8294\n",
            "Epoch 79/100\n",
            "8000/8000 [==============================] - 1s 112us/step - loss: 0.4209 - accuracy: 0.8300\n",
            "Epoch 80/100\n",
            "8000/8000 [==============================] - 1s 125us/step - loss: 0.4229 - accuracy: 0.8300\n",
            "Epoch 81/100\n",
            "8000/8000 [==============================] - 1s 118us/step - loss: 0.4251 - accuracy: 0.8307\n",
            "Epoch 82/100\n",
            "8000/8000 [==============================] - 1s 120us/step - loss: 0.4245 - accuracy: 0.8301\n",
            "Epoch 83/100\n",
            "8000/8000 [==============================] - 1s 122us/step - loss: 0.4243 - accuracy: 0.8300\n",
            "Epoch 84/100\n",
            "8000/8000 [==============================] - 1s 115us/step - loss: 0.4235 - accuracy: 0.8306\n",
            "Epoch 85/100\n",
            "8000/8000 [==============================] - 1s 116us/step - loss: 0.4249 - accuracy: 0.8336\n",
            "Epoch 86/100\n",
            "8000/8000 [==============================] - 1s 112us/step - loss: 0.4212 - accuracy: 0.8310\n",
            "Epoch 87/100\n",
            "8000/8000 [==============================] - 1s 113us/step - loss: 0.4230 - accuracy: 0.8316\n",
            "Epoch 88/100\n",
            "8000/8000 [==============================] - 1s 115us/step - loss: 0.4218 - accuracy: 0.8320\n",
            "Epoch 89/100\n",
            "8000/8000 [==============================] - 1s 119us/step - loss: 0.4232 - accuracy: 0.8342\n",
            "Epoch 90/100\n",
            "8000/8000 [==============================] - 1s 114us/step - loss: 0.4255 - accuracy: 0.8304\n",
            "Epoch 91/100\n",
            "8000/8000 [==============================] - 1s 124us/step - loss: 0.4239 - accuracy: 0.8317\n",
            "Epoch 92/100\n",
            "8000/8000 [==============================] - 1s 118us/step - loss: 0.4230 - accuracy: 0.8315\n",
            "Epoch 93/100\n",
            "8000/8000 [==============================] - 1s 117us/step - loss: 0.4226 - accuracy: 0.8322\n",
            "Epoch 94/100\n",
            "8000/8000 [==============================] - 1s 118us/step - loss: 0.4272 - accuracy: 0.8304\n",
            "Epoch 95/100\n",
            "8000/8000 [==============================] - 1s 117us/step - loss: 0.4201 - accuracy: 0.8310\n",
            "Epoch 96/100\n",
            "8000/8000 [==============================] - 1s 115us/step - loss: 0.4244 - accuracy: 0.8299\n",
            "Epoch 97/100\n",
            "8000/8000 [==============================] - 1s 117us/step - loss: 0.4255 - accuracy: 0.8317\n",
            "Epoch 98/100\n",
            "8000/8000 [==============================] - 1s 114us/step - loss: 0.4212 - accuracy: 0.8326\n",
            "Epoch 99/100\n",
            "8000/8000 [==============================] - 1s 124us/step - loss: 0.4203 - accuracy: 0.8298\n",
            "Epoch 100/100\n",
            "8000/8000 [==============================] - 1s 113us/step - loss: 0.4221 - accuracy: 0.8301\n"
          ],
          "name": "stdout"
        },
        {
          "output_type": "execute_result",
          "data": {
            "text/plain": [
              "<keras.callbacks.callbacks.History at 0x7f2ddba899b0>"
            ]
          },
          "metadata": {
            "tags": []
          },
          "execution_count": 13
        }
      ]
    },
    {
      "cell_type": "code",
      "metadata": {
        "id": "wAO6vfPl1SrG",
        "colab_type": "code",
        "colab": {}
      },
      "source": [
        "# Predicting the Test set\n",
        "y_pred = classifier.predict(X_test)\n",
        "y_pred = (y_pred > 0.5)"
      ],
      "execution_count": 0,
      "outputs": []
    },
    {
      "cell_type": "code",
      "metadata": {
        "id": "BxI0bHXd2gKm",
        "colab_type": "code",
        "colab": {
          "base_uri": "https://localhost:8080/",
          "height": 52
        },
        "outputId": "d3ecc144-9702-4588-f160-b88c57db9db7"
      },
      "source": [
        "# Making the Confusion Matrix\n",
        "from sklearn.metrics import confusion_matrix\n",
        "cm = confusion_matrix(y_test, y_pred)\n",
        "print(cm)"
      ],
      "execution_count": 17,
      "outputs": [
        {
          "output_type": "stream",
          "text": [
            "[[1555   40]\n",
            " [ 277  128]]\n"
          ],
          "name": "stdout"
        }
      ]
    },
    {
      "cell_type": "code",
      "metadata": {
        "id": "aNHZ7gkm2hzZ",
        "colab_type": "code",
        "colab": {
          "base_uri": "https://localhost:8080/",
          "height": 34
        },
        "outputId": "01153bf1-cb28-4310-9137-3960b60d6362"
      },
      "source": [
        "# Accuracy using confusion matrix\n",
        "accuracy_per = ((cm[0,0]+cm[1,1])/len(y_test))\n",
        "print(\"Accuracy: \",accuracy_per * 100)\n"
      ],
      "execution_count": 19,
      "outputs": [
        {
          "output_type": "stream",
          "text": [
            "Accuracy:  84.15\n"
          ],
          "name": "stdout"
        }
      ]
    },
    {
      "cell_type": "code",
      "metadata": {
        "id": "y2dRkAjP2xzo",
        "colab_type": "code",
        "colab": {}
      },
      "source": [
        ""
      ],
      "execution_count": 0,
      "outputs": []
    }
  ]
}